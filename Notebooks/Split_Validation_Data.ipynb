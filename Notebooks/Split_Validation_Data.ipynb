{
  "cells": [
    {
      "cell_type": "markdown",
      "metadata": {},
      "source": [
        "# Data Split\n",
        "\n",
        "Split the data set to one set for training and testing (90%) and a second one to make predictions (10%)"
      ]
    },
    {
      "cell_type": "markdown",
      "metadata": {
        "id": "4Bd3juHQ1jcx"
      },
      "source": [
        "Load"
      ]
    },
    {
      "cell_type": "code",
      "execution_count": 1,
      "metadata": {
        "id": "vHx_2CQH1txm"
      },
      "outputs": [],
      "source": [
        "from google.colab import drive\n",
        "import os\n",
        "import shutil\n",
        "import random\n",
        "import zipfile\n",
        "import shutil\n",
        "import random\n"
      ]
    },
    {
      "cell_type": "markdown",
      "metadata": {
        "id": "IuzxcIVo1FbM"
      },
      "source": [
        "Mount Google Drive"
      ]
    },
    {
      "cell_type": "code",
      "execution_count": 2,
      "metadata": {
        "colab": {
          "base_uri": "https://localhost:8080/"
        },
        "id": "AkoeQZck1GR3",
        "outputId": "aea0f36b-5c5e-4018-9a47-b6689a7caa9b"
      },
      "outputs": [
        {
          "name": "stdout",
          "output_type": "stream",
          "text": [
            "Mounted at /content/drive\n"
          ]
        }
      ],
      "source": [
        "drive.mount('/content/drive')"
      ]
    },
    {
      "cell_type": "markdown",
      "metadata": {
        "id": "5HnfscuW2Ps1"
      },
      "source": [
        "Unzip the Dataset"
      ]
    },
    {
      "cell_type": "code",
      "execution_count": 3,
      "metadata": {
        "colab": {
          "base_uri": "https://localhost:8080/"
        },
        "id": "S0X-bwyS2Qee",
        "outputId": "0e5b4feb-dbb9-4f6f-91d3-d34202424e7c"
      },
      "outputs": [
        {
          "name": "stdout",
          "output_type": "stream",
          "text": [
            "✅ Dataset extracted.\n"
          ]
        }
      ],
      "source": [
        "# Paths\n",
        "zip_path = \"/content/drive/MyDrive/IronHack/animals10.zip\"\n",
        "extract_path = \"/content\"  # So we get /content/animals10\n",
        "\n",
        "# Unzip only if not already done\n",
        "if not os.path.exists(\"/content/animals10/raw-img\"):\n",
        "    with zipfile.ZipFile(zip_path, 'r') as zip_ref:\n",
        "        zip_ref.extractall(extract_path)\n",
        "    print(\"✅ Dataset extracted.\")\n",
        "else:\n",
        "    print(\"✅ Dataset already extracted.\")"
      ]
    },
    {
      "cell_type": "markdown",
      "metadata": {
        "id": "-wHNj7Tc1eDJ"
      },
      "source": [
        "Split Off a Holdout Set (10%)"
      ]
    },
    {
      "cell_type": "code",
      "execution_count": 4,
      "metadata": {
        "colab": {
          "base_uri": "https://localhost:8080/"
        },
        "id": "f1G10BDt1e6D",
        "outputId": "630eb437-4125-42fd-f7ca-1c5557e5f1fb"
      },
      "outputs": [
        {
          "name": "stdout",
          "output_type": "stream",
          "text": [
            "Moved 167 images from squirrel to holdout.\n",
            "Moved 190 images from butterfly to holdout.\n",
            "Moved 168 images from cow to holdout.\n",
            "Moved 278 images from chicken to holdout.\n",
            "Moved 130 images from elephant to holdout.\n",
            "Moved 437 images from dog to holdout.\n",
            "Moved 163 images from sheep to holdout.\n",
            "Moved 150 images from cat to holdout.\n",
            "Moved 433 images from spider to holdout.\n",
            "Moved 236 images from horse to holdout.\n",
            "Remaining in squirrel: 1509 images\n",
            "Remaining in butterfly: 1711 images\n",
            "Remaining in cow: 1512 images\n",
            "Remaining in chicken: 2511 images\n",
            "Remaining in elephant: 1172 images\n",
            "Remaining in dog: 3940 images\n",
            "Remaining in sheep: 1475 images\n",
            "Remaining in cat: 1352 images\n",
            "Remaining in spider: 3906 images\n",
            "Remaining in horse: 2125 images\n",
            "Holdout in squirrel: 167 images\n",
            "Holdout in butterfly: 190 images\n",
            "Holdout in cow: 168 images\n",
            "Holdout in chicken: 278 images\n",
            "Holdout in elephant: 130 images\n",
            "Holdout in dog: 437 images\n",
            "Holdout in sheep: 163 images\n",
            "Holdout in cat: 150 images\n",
            "Holdout in spider: 433 images\n",
            "Holdout in horse: 236 images\n"
          ]
        }
      ],
      "source": [
        "dataset_path = \"/content/animals10/raw-img\"\n",
        "holdout_path = \"/content/animals10/holdout/raw-img\"\n",
        "\n",
        "# Make sure holdout folder exists\n",
        "os.makedirs(holdout_path, exist_ok=True)\n",
        "\n",
        "# Move 10% from each class to holdout\n",
        "for class_name in os.listdir(dataset_path):\n",
        "    class_folder = os.path.join(dataset_path, class_name)\n",
        "\n",
        "    if os.path.isdir(class_folder):\n",
        "        images = os.listdir(class_folder)\n",
        "        num_holdout = int(len(images) * 0.10)\n",
        "        holdout_images = random.sample(images, num_holdout)\n",
        "\n",
        "        holdout_class_folder = os.path.join(holdout_path, class_name)\n",
        "        os.makedirs(holdout_class_folder, exist_ok=True)\n",
        "\n",
        "        for image in holdout_images:\n",
        "            src = os.path.join(class_folder, image)\n",
        "            dst = os.path.join(holdout_class_folder, image)\n",
        "            shutil.move(src, dst)\n",
        "\n",
        "        print(f\"Moved {num_holdout} images from {class_name} to holdout.\")\n",
        "\n",
        "# Print summary\n",
        "for folder, label in [(dataset_path, \"Remaining\"), (holdout_path, \"Holdout\")]:\n",
        "    for class_name in os.listdir(folder):\n",
        "        class_folder = os.path.join(folder, class_name)\n",
        "        if os.path.isdir(class_folder):\n",
        "            count = len(os.listdir(class_folder))\n",
        "            print(f\"{label} in {class_name}: {count} images\")"
      ]
    },
    {
      "cell_type": "code",
      "execution_count": 5,
      "metadata": {
        "colab": {
          "base_uri": "https://localhost:8080/"
        },
        "id": "sX-RVAj67LJV",
        "outputId": "97f95daa-9560-4755-e1a4-5fc14333f0ef"
      },
      "outputs": [
        {
          "name": "stdout",
          "output_type": "stream",
          "text": [
            "📁 Main dataset structure:\n",
            "squirrel: 1509 images\n",
            "butterfly: 1711 images\n",
            "cow: 1512 images\n",
            "chicken: 2511 images\n",
            "elephant: 1172 images\n",
            "dog: 3940 images\n",
            "sheep: 1475 images\n",
            "cat: 1352 images\n",
            "spider: 3906 images\n",
            "horse: 2125 images\n",
            "\n",
            "📁 Holdout dataset structure:\n",
            "squirrel: 167 images\n",
            "butterfly: 190 images\n",
            "cow: 168 images\n",
            "chicken: 278 images\n",
            "elephant: 130 images\n",
            "dog: 437 images\n",
            "sheep: 163 images\n",
            "cat: 150 images\n",
            "spider: 433 images\n",
            "horse: 236 images\n"
          ]
        }
      ],
      "source": [
        "import os\n",
        "\n",
        "print(\"📁 Main dataset structure:\")\n",
        "for class_name in os.listdir(\"/content/animals10/raw-img\"):\n",
        "    class_folder = os.path.join(\"/content/animals10/raw-img\", class_name)\n",
        "    if os.path.isdir(class_folder):\n",
        "        print(f\"{class_name}: {len(os.listdir(class_folder))} images\")\n",
        "\n",
        "print(\"\\n📁 Holdout dataset structure:\")\n",
        "for class_name in os.listdir(\"/content/animals10/holdout/raw-img\"):\n",
        "    class_folder = os.path.join(\"/content/animals10/holdout/raw-img\", class_name)\n",
        "    if os.path.isdir(class_folder):\n",
        "        print(f\"{class_name}: {len(os.listdir(class_folder))} images\")\n"
      ]
    },
    {
      "cell_type": "markdown",
      "metadata": {
        "id": "IZiHr3e-7j8x"
      },
      "source": [
        "Save Holdout to Google Drive"
      ]
    },
    {
      "cell_type": "code",
      "execution_count": 6,
      "metadata": {
        "colab": {
          "base_uri": "https://localhost:8080/"
        },
        "id": "YKva0Es-7aCe",
        "outputId": "f1c6d458-02d3-45ac-a8d4-a7d039a21b40"
      },
      "outputs": [
        {
          "name": "stdout",
          "output_type": "stream",
          "text": [
            "✅ Holdout saved to Google Drive.\n"
          ]
        }
      ],
      "source": [
        "import shutil\n",
        "\n",
        "# Zip the holdout\n",
        "shutil.make_archive(\"/content/holdout\", 'zip', \"/content/animals10/holdout\")\n",
        "\n",
        "# Move to Drive\n",
        "shutil.move(\"/content/holdout.zip\", \"/content/drive/MyDrive/IronHack/holdout.zip\")\n",
        "print(\"✅ Holdout saved to Google Drive.\")"
      ]
    }
  ],
  "metadata": {
    "colab": {
      "provenance": []
    },
    "kernelspec": {
      "display_name": "Python 3",
      "name": "python3"
    }
  },
  "nbformat": 4,
  "nbformat_minor": 0
}
